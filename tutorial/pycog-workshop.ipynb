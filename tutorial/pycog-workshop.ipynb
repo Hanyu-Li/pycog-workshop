{
 "cells": [
  {
   "cell_type": "code",
   "execution_count": 1,
   "metadata": {},
   "outputs": [],
   "source": [
    "from __future__ import division\n",
    "from pycog import tasktools\n",
    "import numpy as np"
   ]
  },
  {
   "cell_type": "markdown",
   "metadata": {},
   "source": [
    "These RNNs have three layers (one could make more...) of time-varying \"neurons\": input units $\\vec{u}(t)$, recurrent (hidden) units $\\vec{r}(t)$, and output units $\\vec{z}(t)$. The dynamics of the recurrent units are given by:\n",
    "$$ \\tau\\frac{d\\vec{x}}{dt} = -\\vec{x} + W^{rec}\\vec{r} + W^{in}\\vec{u} + \\sqrt{2\\tau\\sigma^{2}_{rec}}\\vec{\\xi} $$\n",
    "$$ \\vec{r} = [\\vec{x}]_{+} $$\n",
    "$$ \\vec{z} = W^{out}\\vec{r} $$\n",
    "where $\\vec{\\xi}$ is a vector of independent gaussian RVs, and $[.]_{+}$ is the rectification function. "
   ]
  },
  {
   "cell_type": "markdown",
   "metadata": {},
   "source": [
    "First, let's decide that task that we want the network to perform. Let's start with something simple. How about a discrimination task? We want the network to signal via one output neuron if the input is less than some threshold $t$ and signal via a different output neuron if the input is greater than that value. To be clear, we have an input $x$ and two outputs $\\vec{y}$, $y_{1}$ and $y_{2}$, we want our network to perform the function $f$, as in $\\vec{y} = f(x)$, with $f$ defined as,\n",
    "\n",
    "$ f(x) = \n",
    "\\begin{cases}\n",
    "[0, r]^{T} & x > t \\\\\n",
    "[r, 0]^{T} & x \\leq t\n",
    "\\end{cases}\n",
    "$ "
   ]
  },
  {
   "cell_type": "markdown",
   "metadata": {},
   "source": [
    "Let's decide what kind of network we want to use first. Two things are immediately clear: we only need one input and two output neurons. \n",
    "\n",
    "How many neurons do we want for the hidden layer? "
   ]
  },
  {
   "cell_type": "code",
   "execution_count": 2,
   "metadata": {},
   "outputs": [],
   "source": [
    "# network details\n",
    "nin = 1\n",
    "n = 20\n",
    "nout = 2\n",
    "\n",
    "ei, exc, inh = tasktools.generate_ei(n)\n",
    "ne = len(exc)\n",
    "ni = len(inh)\n",
    "\n",
    "# input\n",
    "visual_input = 0 # label for the input index, we might want to add more later!\n",
    "visual_exc = exc # all excitatory neurons in the hidden layer will receive visual input\n",
    "# but note that the hidden units will not\n",
    "cin = np.zeros((n, nin))\n",
    "cin[visual_exc, visual_input] = 1\n",
    "baseline_input = .2 # noise\n",
    "\n",
    "# output\n",
    "left_resp = 0\n",
    "right_resp = 1\n",
    "cout = np.zeros((nout, n))\n",
    "cout[:, exc] = 1 # output neurons both receive from all exc neurons\n",
    "\n",
    "hi_resp = 1\n",
    "lo_resp = 0"
   ]
  },
  {
   "cell_type": "code",
   "execution_count": 3,
   "metadata": {},
   "outputs": [
    {
     "name": "stdout",
     "output_type": "stream",
     "text": [
      "[0 1 2 3 4 5 6 7]\n"
     ]
    }
   ],
   "source": [
    "x = np.arange(8)\n",
    "y = x\n",
    "print y\n"
   ]
  },
  {
   "cell_type": "markdown",
   "metadata": {},
   "source": [
    "Okay, so we have a fairly clear trial structure. We want to choose $t$ such that $t$ is in the set of possible $x$ and then train the network to make the correct discrimination by giving it the correct output vector in training. This is done by the \"generate_trial\" function. First, let's consider how many conditions we have:\n",
    "1. $x > t \\rightarrow [0, r]^{T}$\n",
    "2. $x \\leq t \\rightarrow [r, 0]^{T}$\n",
    "\n",
    "Do we want anything else?\n",
    "\n",
    "Something that appears to be useful in training is to assert the stimulus dependence of the network, by inserting trials on which the network is required to not robustly respond, that is, catch trials. \n",
    "\n",
    "The generate_file function has a strict input and output contract, but uses closures to store lots of variables declared globally before it. "
   ]
  },
  {
   "cell_type": "code",
   "execution_count": 4,
   "metadata": {},
   "outputs": [],
   "source": [
    "dt = 20 # ms, we don't need to integrate with too much precision, especially for training -- we can plot with\n",
    "        # higher resolution\n",
    "tau = 100\n",
    "\n",
    "thresh = 10. # where's the discrimination boundary?\n",
    "x_std = 5. # let's give it a somewhat large spread\n",
    "\n",
    "fixation = 500\n",
    "sample = 400\n",
    "decision = 300\n",
    "T = fixation + sample + decision\n",
    "epochs = {'fixation':(0, fixation),\n",
    "          'stimulus':(fixation, fixation + sample),\n",
    "          'decision':(fixation + sample, T),\n",
    "          'T':T}\n",
    "\n",
    "upperbound = thresh*2.\n",
    "scale_x = lambda x: max(min(x, upperbound), 0.)/upperbound\n",
    "# we don't need to declare rng or params here, but we do need to give \"generate_trial\" everything \n",
    "# else it needs to generate a \"trial\" structure in the two conditions we've described\n",
    "def generate_trial(rng, dt, params):\n",
    "    sample_x  = rng.randn()*x_std + thresh\n",
    "    sc_x = scale_x(sample_x)\n",
    "    t, e = tasktools.get_epochs_idx(dt, epochs)\n",
    "    trial = {'t':t, 'epochs':epochs}\n",
    "    \n",
    "    X = np.zeros((len(t), nin))\n",
    "    X[e['stimulus'], :] = sc_x\n",
    "    trial['inputs'] = X\n",
    "    \n",
    "    if sample_x > thresh:\n",
    "        choice = 1\n",
    "    else:\n",
    "        choice = 0\n",
    "    Y = np.zeros((len(t), nout))\n",
    "    M = np.zeros_like(Y)\n",
    "    Y[e['fixation'], :] = lo_resp\n",
    "    Y[e['decision'], choice] = hi_resp\n",
    "    Y[e['decision'], 1-choice] = lo_resp\n",
    "    M[e['fixation']+e['decision'], :] = 1\n",
    "    trial['outputs'] = Y\n",
    "    trial['mask'] = M\n",
    "        \n",
    "    trial['info'] = {'input': sample_x, 'scaled_input':sc_x, 'choice': choice}\n",
    "    return trial\n"
   ]
  },
  {
   "cell_type": "markdown",
   "metadata": {},
   "source": [
    "Now, let's decide how we'll evaluate the performance of our network and when we'll tell our network to stop training."
   ]
  },
  {
   "cell_type": "code",
   "execution_count": 5,
   "metadata": {},
   "outputs": [],
   "source": [
    "# there are several ready-made performance metrics in the tasktools file, this is a two\n",
    "# alternative forced choice task, so let's use that one\n",
    "performance = tasktools.performance_2afc\n",
    "\n",
    "# termination criterion\n",
    "target_performance = 90\n",
    "def terminate(performance_history):\n",
    "    return np.mean(performance_history[-5:]) > target_performance\n",
    "\n",
    "nconds = 2\n",
    "n_validation = 100*nconds"
   ]
  },
  {
   "cell_type": "markdown",
   "metadata": {},
   "source": [
    "All right, now we have all of the pieces that we need. Let's construct and then train the model. So far, we've had to do a lot of the work, now pycog will take over from us. "
   ]
  },
  {
   "cell_type": "code",
   "execution_count": 6,
   "metadata": {},
   "outputs": [],
   "source": [
    "from pycog import Model\n",
    "\n",
    "model = Model(N=n, Nout=nout, Nin=nin, ei=ei, tau=tau, dt=dt,\n",
    "              generate_trial=generate_trial, n_validation=n_validation, terminate=terminate,\n",
    "              performance=performance)"
   ]
  },
  {
   "cell_type": "code",
   "execution_count": 10,
   "metadata": {
    "scrolled": true
   },
   "outputs": [
    {
     "name": "stdout",
     "output_type": "stream",
     "text": [
      "=> settings\n",
      "   | GPU:                       enabled\n",
      "   | init seed:                 418236\n",
      "   | distribution (Win):        uniform\n",
      "   | distribution (Wrec):       gamma\n",
      "   | distribution (Wout):       uniform\n",
      "   | Nin/N/Nout:                1/20/2\n",
      "   | Dale's law:                E/I = 16/4\n",
      "   | initial spectral radius:   1.50\n",
      "   | train recurrent bias:      no\n",
      "   | train output bias:         no\n",
      "   | train initial conditions:  yes\n",
      "   | sparseness (Wrec):         p = 0.95, p_plastic = 0.95\n",
      "   | E/I positivity function:   rectify\n",
      "   | hidden activation:         rectify\n",
      "   | output activation/loss:    linear/squared\n",
      "   | mode:                      batch\n",
      "   | output mask:               yes\n",
      "   | sigma_in:                  0.01\n",
      "   | sigma_rec:                 0.15\n",
      "   | rectify inputs:            True\n",
      "   | gradient minibatch size:   20\n",
      "   | validation minibatch size: 200\n",
      "   | dt:                        20 ms\n",
      "   | tau:                       100 ms\n",
      "   | tau_in:                    100 ms\n",
      "   | learning rate:             0.01\n",
      "   | lambda_Omega:              2\n",
      "   | max gradient norm:         1\n",
      "   | (Theano) floatX:           float32\n",
      "   | (Theano) allow_gc:         False\n",
      "0 updates - May 23 2018 2:46:57 PM (0 hrs 0 mins 0 secs elapsed)\n",
      "| validation loss / RMSE / performance: 0.165648 / 0.406999 / 45.00 --- NEW BEST (prev. best: inf)\n",
      "| Omega      (last iter) = n/a\n",
      "| grad. norm (last iter) = n/a\n",
      "| rho                    = 1.50000000\n",
      "500 updates - May 23 2018 2:47:04 PM (0 hrs 0 mins 7 secs elapsed)\n",
      "| validation loss / RMSE / performance: 0.116634 / 0.341517 / 45.00 --- NEW BEST (prev. best: 0.165648)\n",
      "| Omega      (last iter) = 0.03121342\n",
      "| grad. norm (last iter) = 0.29587698\n",
      "| rho                    = 1.59544468\n",
      "1000 updates - May 23 2018 2:47:11 PM (0 hrs 0 mins 14 secs elapsed)\n",
      "| validation loss / RMSE / performance: 0.107986 / 0.328612 / 50.50 --- NEW BEST (prev. best: 0.116634)\n",
      "| Omega      (last iter) = 0.02533762\n",
      "| grad. norm (last iter) = 0.61697108\n",
      "| rho                    = 1.62797570\n",
      "1500 updates - May 23 2018 2:47:18 PM (0 hrs 0 mins 21 secs elapsed)\n",
      "| validation loss / RMSE / performance: 0.105218 / 0.324374 / 51.00 --- NEW BEST (prev. best: 0.107986)\n",
      "| Omega      (last iter) = 0.01983902\n",
      "| grad. norm (last iter) = 0.70016015\n",
      "| rho                    = 1.62260640\n",
      "2000 updates - May 23 2018 2:47:25 PM (0 hrs 0 mins 27 secs elapsed)\n",
      "| validation loss / RMSE / performance: 0.101087 / 0.317942 / 57.00 --- NEW BEST (prev. best: 0.105218)\n",
      "| Omega      (last iter) = 0.02023964\n",
      "| grad. norm (last iter) = 0.27081347\n",
      "| rho                    = 1.60917902\n",
      "2500 updates - May 23 2018 2:47:32 PM (0 hrs 0 mins 34 secs elapsed)\n",
      "| validation loss / RMSE / performance: 0.104203 / 0.322804 / 46.00\n",
      "| Omega      (last iter) = 0.01879655\n",
      "| grad. norm (last iter) = 0.22931801\n",
      "| rho                    = 1.59448576\n",
      "3000 updates - May 23 2018 2:47:39 PM (0 hrs 0 mins 41 secs elapsed)\n",
      "| validation loss / RMSE / performance: 0.095713 / 0.309375 / 56.50 --- NEW BEST (prev. best: 0.101087)\n",
      "| Omega      (last iter) = 0.01605946\n",
      "| grad. norm (last iter) = 0.32615244\n",
      "| rho                    = 1.58664989\n",
      "3500 updates - May 23 2018 2:47:46 PM (0 hrs 0 mins 48 secs elapsed)\n",
      "| validation loss / RMSE / performance: 0.093942 / 0.306500 / 58.00 --- NEW BEST (prev. best: 0.095713)\n",
      "| Omega      (last iter) = 0.01665234\n",
      "| grad. norm (last iter) = 0.46175331\n",
      "| rho                    = 1.58164549\n",
      "4000 updates - May 23 2018 2:47:53 PM (0 hrs 0 mins 55 secs elapsed)\n",
      "| validation loss / RMSE / performance: 0.104461 / 0.323205 / 47.50\n",
      "| Omega      (last iter) = 0.01797588\n",
      "| grad. norm (last iter) = 0.73544502\n",
      "| rho                    = 1.57414901\n",
      "4500 updates - May 23 2018 2:48:00 PM (0 hrs 1 mins 2 secs elapsed)\n",
      "| validation loss / RMSE / performance: 0.099838 / 0.315971 / 56.00\n",
      "| Omega      (last iter) = 0.01943897\n",
      "| grad. norm (last iter) = 0.07497375\n",
      "| rho                    = 1.57280397\n",
      "5000 updates - May 23 2018 2:48:07 PM (0 hrs 1 mins 9 secs elapsed)\n",
      "| validation loss / RMSE / performance: 0.098053 / 0.313135 / 56.00\n",
      "| Omega      (last iter) = 0.01670602\n",
      "| grad. norm (last iter) = 0.27976432\n",
      "| rho                    = 1.57013190\n",
      "5500 updates - May 23 2018 2:48:13 PM (0 hrs 1 mins 16 secs elapsed)\n",
      "| validation loss / RMSE / performance: 0.096938 / 0.311348 / 56.50\n",
      "| Omega      (last iter) = 0.01471716\n",
      "| grad. norm (last iter) = 0.24428275\n",
      "| rho                    = 1.56451118\n",
      "6000 updates - May 23 2018 2:48:20 PM (0 hrs 1 mins 22 secs elapsed)\n",
      "| validation loss / RMSE / performance: 0.098099 / 0.313207 / 52.50\n",
      "| Omega      (last iter) = 0.01416348\n",
      "| grad. norm (last iter) = 0.39712849\n",
      "| rho                    = 1.55846548\n",
      "6500 updates - May 23 2018 2:48:27 PM (0 hrs 1 mins 29 secs elapsed)\n",
      "| validation loss / RMSE / performance: 0.101654 / 0.318833 / 55.50\n",
      "| Omega      (last iter) = 0.01212368\n",
      "| grad. norm (last iter) = 0.81651562\n",
      "| rho                    = 1.56043184\n",
      "7000 updates - May 23 2018 2:48:34 PM (0 hrs 1 mins 36 secs elapsed)\n",
      "| validation loss / RMSE / performance: 0.094869 / 0.308007 / 58.00\n",
      "| Omega      (last iter) = 0.01377658\n",
      "| grad. norm (last iter) = 0.80980486\n",
      "| rho                    = 1.55139971\n",
      "7500 updates - May 23 2018 2:48:41 PM (0 hrs 1 mins 43 secs elapsed)\n",
      "| validation loss / RMSE / performance: 0.094867 / 0.308005 / 62.50\n",
      "| Omega      (last iter) = 0.00860328\n",
      "| grad. norm (last iter) = 0.41771534\n",
      "| rho                    = 1.55134034\n",
      "8000 updates - May 23 2018 2:48:48 PM (0 hrs 1 mins 50 secs elapsed)\n",
      "| validation loss / RMSE / performance: 0.095181 / 0.308514 / 60.50\n",
      "| Omega      (last iter) = 0.01042441\n",
      "| grad. norm (last iter) = 0.09800626\n",
      "| rho                    = 1.54603684\n",
      "8500 updates - May 23 2018 2:48:55 PM (0 hrs 1 mins 57 secs elapsed)\n",
      "| validation loss / RMSE / performance: 0.095850 / 0.309597 / 52.00\n",
      "| Omega      (last iter) = 0.01011578\n",
      "| grad. norm (last iter) = 0.66738385\n",
      "| rho                    = 1.55150044\n",
      "9000 updates - May 23 2018 2:49:02 PM (0 hrs 2 mins 4 secs elapsed)\n",
      "| validation loss / RMSE / performance: 0.092173 / 0.303600 / 60.00 --- NEW BEST (prev. best: 0.093942)\n",
      "| Omega      (last iter) = 0.00905251\n",
      "| grad. norm (last iter) = 0.27753088\n",
      "| rho                    = 1.55908716\n",
      "9500 updates - May 23 2018 2:49:09 PM (0 hrs 2 mins 11 secs elapsed)\n",
      "| validation loss / RMSE / performance: 0.095400 / 0.308870 / 63.00\n",
      "| Omega      (last iter) = 0.00657901\n",
      "| grad. norm (last iter) = 1.06099665\n",
      "| rho                    = 1.56038725\n",
      "10000 updates - May 23 2018 2:49:16 PM (0 hrs 2 mins 18 secs elapsed)\n",
      "| validation loss / RMSE / performance: 0.089432 / 0.299052 / 64.00 --- NEW BEST (prev. best: 0.092173)\n",
      "| Omega      (last iter) = 0.00888577\n",
      "| grad. norm (last iter) = 0.55002105\n",
      "| rho                    = 1.56590736\n",
      "[ pycog.sgd.SGD.train ] Training interrupted by user during iteration 10175.\n"
     ]
    }
   ],
   "source": [
    "seed = np.random.randint(0, 1000000)\n",
    "model.train('test.pkl', seed=seed, recover=False)"
   ]
  },
  {
   "cell_type": "code",
   "execution_count": 11,
   "metadata": {},
   "outputs": [
    {
     "name": "stdout",
     "output_type": "stream",
     "text": [
      "[ pycog.rnn.RNN ] 10000 updates, best error = 0.29905233, spectral radius = 1.56590736\n"
     ]
    }
   ],
   "source": [
    "from pycog import RNN\n",
    "plot_dt = 1\n",
    "#rnn = RNN('ramping_pathology.pkl', {'dt':plot_dt})\n",
    "rnn = RNN('test.pkl', {'dt':plot_dt})"
   ]
  },
  {
   "cell_type": "code",
   "execution_count": 12,
   "metadata": {
    "scrolled": false
   },
   "outputs": [
    {
     "name": "stdout",
     "output_type": "stream",
     "text": [
      "=> settings\n",
      "   | dt:        1 ms\n",
      "   | threshold: 0.0001\n",
      "{'epochs': {'fixation': (0, 500), 'stimulus': (500, 900), 'decision': (900, 1200), 'T': 1200}, 'input': 10.615574670494492, 'scaled_input': 0.5307787335247246, 'choice': 1}\n"
     ]
    },
    {
     "data": {
      "text/plain": [
       "Text(0,0.5,'activity')"
      ]
     },
     "execution_count": 12,
     "metadata": {},
     "output_type": "execute_result"
    },
    {
     "data": {
      "image/png": "[encoded data removed]",
      "text/plain": [
       "<Figure size 432x288 with 1 Axes>"
      ]
     },
     "metadata": {},
     "output_type": "display_data"
    }
   ],
   "source": [
    "import matplotlib.pyplot as plt\n",
    "\n",
    "%matplotlib inline\n",
    "info = rnn.run(inputs=(generate_trial, {}), seed=np.random.randint(0, 10000))\n",
    "print info\n",
    "f = plt.figure()\n",
    "corr_choice = info['choice']\n",
    "ax = f.add_subplot(1, 1, 1)\n",
    "ax.plot(rnn.t, rnn.z[corr_choice], label='target')\n",
    "ax.plot(rnn.t, rnn.z[1 - corr_choice], label='other')\n",
    "ax.legend()\n",
    "ax.set_xlabel('t (ms)')\n",
    "ax.set_ylabel('activity')"
   ]
  },
  {
   "cell_type": "code",
   "execution_count": 13,
   "metadata": {},
   "outputs": [
    {
     "name": "stdout",
     "output_type": "stream",
     "text": [
      "=> settings\n",
      "   | dt:        1 ms\n",
      "   | threshold: 0.0001\n",
      "None\n"
     ]
    },
    {
     "data": {
      "text/plain": [
       "[<matplotlib.lines.Line2D at 0x7fb58ee71c50>]"
      ]
     },
     "execution_count": 13,
     "metadata": {},
     "output_type": "execute_result"
    },
    {
     "data": {
      "image/png": "[encoded data removed]",
      "text/plain": [
       "<Figure size 432x288 with 1 Axes>"
      ]
     },
     "metadata": {},
     "output_type": "display_data"
    }
   ],
   "source": [
    "run_t = 1000\n",
    "\n",
    "f = plt.figure()\n",
    "ax = f.add_subplot(1, 1, 1)\n",
    "info = rnn.run(T=run_t, seed=np.random.randint(0, 10000))\n",
    "print info\n",
    "ax.plot(rnn.t, rnn.z[0], label='0')\n",
    "ax.plot(rnn.t, rnn.z[1], label='1')"
   ]
  },
  {
   "cell_type": "markdown",
   "metadata": {},
   "source": [
    "This looks good, but hmmm, this ramping is a little bit annoying. We should do something more to constrain both output neurons to not respond unless it's the right stimulus. Let's reconsider our trial function. We want to add a third condition, in which the neurons are constrained to fire at as low a rate as possible, and in which there is no stimulus given. "
   ]
  },
  {
   "cell_type": "code",
   "execution_count": 14,
   "metadata": {},
   "outputs": [],
   "source": [
    "catch_prob = 1/3.\n",
    "catch_len = 2000\n",
    "\n",
    "def generate_trial_with_catch(rng, dt, params):\n",
    "    cp = params.get('catch_prob', catch_prob)\n",
    "    sc_x = params.get('samp_x',scale_x(rng.randn()*x_std + thresh))\n",
    "    if rng.rand() < cp:\n",
    "        epochs = {'T':catch_len}\n",
    "        t, e = tasktools.get_epochs_idx(dt, epochs)\n",
    "        trial = {'t':t, 'epochs':epochs}\n",
    "        trial['info'] = {}\n",
    "        trial['inputs'] = np.zeros((len(t), nin))\n",
    "        trial['outputs'] = np.zeros((len(t), nout)) + lo_resp\n",
    "        trial['mask'] = np.ones_like(trial['outputs'])\n",
    "    else:\n",
    "        fixation = 500\n",
    "        sample = 400\n",
    "        decision = 300\n",
    "        T = fixation + sample + decision\n",
    "        epochs = {'fixation':(0, fixation),\n",
    "                  'stimulus':(fixation, fixation + sample),\n",
    "                  'decision':(fixation + sample, T),\n",
    "                  'T':T}\n",
    "        # sc_x = scale_x(sample_x)\n",
    "        t, e = tasktools.get_epochs_idx(dt, epochs)\n",
    "        trial = {'t':t, 'epochs':epochs}\n",
    "    \n",
    "        X = np.zeros((len(t), nin))\n",
    "        X[e['stimulus'], :] = sc_x\n",
    "        trial['inputs'] = X\n",
    "    \n",
    "        if sc_x > (thresh/upperbound):\n",
    "            choice = 1\n",
    "        else:\n",
    "            choice = 0\n",
    "        Y = np.zeros((len(t), nout))\n",
    "        M = np.zeros_like(Y)\n",
    "        Y[e['fixation'], :] = lo_resp\n",
    "        Y[e['decision'], choice] = hi_resp\n",
    "        Y[e['decision'], 1-choice] = lo_resp\n",
    "        M[e['fixation']+e['decision'], :] = 1\n",
    "        trial['outputs'] = Y\n",
    "        trial['mask'] = M\n",
    "        \n",
    "        trial['info'] = {'scaled_input':sc_x, 'choice': choice}\n",
    "    return trial\n",
    "\n",
    "model = Model(N=n, Nout=nout, Nin=nin, ei=ei, tau=tau, dt=dt,\n",
    "              generate_trial=generate_trial_with_catch, n_validation=n_validation, \n",
    "              terminate=terminate, performance=performance)"
   ]
  },
  {
   "cell_type": "code",
   "execution_count": 15,
   "metadata": {
    "scrolled": false
   },
   "outputs": [
    {
     "name": "stdout",
     "output_type": "stream",
     "text": [
      "=> settings\n",
      "   | GPU:                       enabled\n",
      "   | init seed:                 63415\n",
      "   | distribution (Win):        uniform\n",
      "   | distribution (Wrec):       gamma\n",
      "   | distribution (Wout):       uniform\n",
      "   | Nin/N/Nout:                1/20/2\n",
      "   | Dale's law:                E/I = 16/4\n",
      "   | initial spectral radius:   1.50\n",
      "   | train recurrent bias:      no\n",
      "   | train output bias:         no\n",
      "   | train initial conditions:  yes\n",
      "   | sparseness (Wrec):         p = 0.95, p_plastic = 0.95\n",
      "   | E/I positivity function:   rectify\n",
      "   | hidden activation:         rectify\n",
      "   | output activation/loss:    linear/squared\n",
      "   | mode:                      batch\n",
      "   | output mask:               yes\n",
      "   | sigma_in:                  0.01\n",
      "   | sigma_rec:                 0.15\n",
      "   | rectify inputs:            True\n",
      "   | gradient minibatch size:   20\n",
      "   | validation minibatch size: 200\n",
      "   | dt:                        20 ms\n",
      "   | tau:                       100 ms\n",
      "   | tau_in:                    100 ms\n",
      "   | learning rate:             0.01\n",
      "   | lambda_Omega:              2\n",
      "   | max gradient norm:         1\n",
      "   | (Theano) floatX:           float32\n",
      "   | (Theano) allow_gc:         False\n",
      "0 updates - May 23 2018 2:52:13 PM (0 hrs 0 mins 0 secs elapsed)\n",
      "| validation loss / RMSE / performance: 0.082436 / 0.287116 / 49.25 --- NEW BEST (prev. best: inf)\n",
      "| Omega      (last iter) = n/a\n",
      "| grad. norm (last iter) = n/a\n",
      "| rho                    = 1.50000000\n",
      "[ pycog.sgd.SGD.train ] Training interrupted by user during iteration 42.\n"
     ]
    }
   ],
   "source": [
    "seed = np.random.randint(0, 1000000)\n",
    "model.train('test_ps.pkl', seed=seed, recover=False)"
   ]
  },
  {
   "cell_type": "code",
   "execution_count": 16,
   "metadata": {},
   "outputs": [
    {
     "name": "stdout",
     "output_type": "stream",
     "text": [
      "[ pycog.rnn.RNN ] File ramping_treated_wcheck.pkl doesn't exist.\n"
     ]
    },
    {
     "ename": "SystemExit",
     "evalue": "1",
     "output_type": "error",
     "traceback": [
      "An exception has occurred, use %tb to see the full traceback.\n",
      "\u001b[0;31mSystemExit\u001b[0m\u001b[0;31m:\u001b[0m 1\n"
     ]
    },
    {
     "name": "stderr",
     "output_type": "stream",
     "text": [
      "/home/hanyu/anaconda2/envs/py27/lib/python2.7/site-packages/IPython/core/interactiveshell.py:2890: UserWarning: To exit: use 'exit', 'quit', or Ctrl-D.\n",
      "  warn(\"To exit: use 'exit', 'quit', or Ctrl-D.\", stacklevel=1)\n"
     ]
    }
   ],
   "source": [
    "from pycog import RNN\n",
    "plot_dt = 1\n",
    "rnn = RNN('ramping_treated_wcheck.pkl', {'dt':plot_dt}, verbose=False)"
   ]
  },
  {
   "cell_type": "code",
   "execution_count": null,
   "metadata": {},
   "outputs": [],
   "source": [
    "run_t = 1000\n",
    "\n",
    "f = plt.figure()\n",
    "ax = f.add_subplot(1, 1, 1)\n",
    "info = rnn.run(T=run_t, seed=np.random.randint(0, 10000))\n",
    "ax.plot(rnn.t, rnn.z[0], label='0')\n",
    "ax.plot(rnn.t, rnn.z[1], label='1')\n",
    "plt.imshow(rnn.Wrec)\n",
    "plt.axis()"
   ]
  },
  {
   "cell_type": "code",
   "execution_count": null,
   "metadata": {},
   "outputs": [],
   "source": [
    "import sys\n",
    "\n",
    "trial_print = \"\"\"=> settings | dt:        1 ms | threshold: 0.0001\"\"\"\n",
    "def gen_trial(rnn, tfunc, params={}, seed_lim=10000000, suppress_out=True):\n",
    "    info = rnn.run(inputs=(tfunc, params), seed=np.random.randint(0, seed_lim))\n",
    "    if suppress_out:\n",
    "        sys.stdout.write(len(trial_print)*'\\b')\n",
    "        sys.stdout.flush()\n",
    "    return rnn.t, rnn.r, rnn.z, info\n",
    "\n",
    "def single_trial_2afcperf(act, info):\n",
    "    nc = np.argmax(act[:, -1])\n",
    "    corr = nc == info['choice']\n",
    "    return corr\n",
    "\n",
    "def gen_many_trials(rnn, tfunc, n=1, params={}, seed_lim=10000000, perf=None):\n",
    "    if perf is not None:\n",
    "        corr = np.zeros(n)\n",
    "    else:\n",
    "        corr = None\n",
    "    for i in xrange(n):\n",
    "        ts, rs, zs, info = gen_trial(rnn, tfunc, params, seed_lim)\n",
    "        if i == 0:\n",
    "            allrs = np.zeros((n, len(rs), len(ts)))\n",
    "            allzs = np.zeros((n, len(zs), len(ts)))\n",
    "            allinfo = []\n",
    "        allrs[i] = rs\n",
    "        allzs[i] = zs\n",
    "        allinfo.append(info)\n",
    "        if perf is not None:\n",
    "            corr[i] = perf(zs, info)\n",
    "    return ts, allrs, allzs, allinfo, corr\n",
    "    \n",
    "def gen_and_plot_output(rnn, tfunc, params={}, seed_lim=1000000, n=1, perf=None):\n",
    "    ts, rs, zs, info, corr = gen_many_trials(rnn, tfunc, n, params, seed_lim, perf)\n",
    "    f = plt.figure()\n",
    "    corr_choice = info['choice']\n",
    "    ax = f.add_subplot(1, 1, 1)\n",
    "    ax.set_title('input: {}'.format(info['scaled_input']))\n",
    "    ax.plot(ts, zs[corr_choice], label='target')\n",
    "    ax.plot(ts, zs[1 - corr_choice], label='other')\n",
    "    ax.legend()\n",
    "    ax.set_xlabel('t (ms)')\n",
    "    ax.set_ylabel('activity')"
   ]
  },
  {
   "cell_type": "code",
   "execution_count": null,
   "metadata": {},
   "outputs": [],
   "source": [
    "print 'a'*10 \n",
    "sys.stdout.write('\\b'*10 + 'b'*10)"
   ]
  },
  {
   "cell_type": "code",
   "execution_count": null,
   "metadata": {
    "scrolled": false
   },
   "outputs": [],
   "source": [
    "xs = np.linspace(0, 1, 20)\n",
    "rates = np.zeros_like(xs)\n",
    "tn = 100\n",
    "for i, x in enumerate(xs):\n",
    "    params = {'catch_prob':0, 'samp_x':x}\n",
    "    _, _, _, _, corr = gen_many_trials(rnn, generate_trial_with_catch, n=tn, params=params, \n",
    "                                       perf=single_trial_2afcperf)\n",
    "    rates[i] = np.mean(corr)"
   ]
  },
  {
   "cell_type": "code",
   "execution_count": null,
   "metadata": {},
   "outputs": [],
   "source": [
    "f = plt.figure()\n",
    "ax = f.add_subplot(1, 1, 1)\n",
    "ax.plot(xs, rates)"
   ]
  },
  {
   "cell_type": "markdown",
   "metadata": {},
   "source": [
    "Exploring the output units is fine, but they don't tell us anything about what the hidden units are doing -- ie, how the task is actually being solved. Let's examine the hidden units:"
   ]
  },
  {
   "cell_type": "code",
   "execution_count": null,
   "metadata": {},
   "outputs": [],
   "source": [
    "left_state = .2\n",
    "right_state = .8\n",
    "n = 100\n",
    "lpar = {'catch_prob':0, 'samp_x':left_state}\n",
    "rpar = {'catch_prob':0, 'samp_x':right_state}\n",
    "\n",
    "ts, lrs, lzs, linfo, _ = gen_many_trials(rnn, generate_trial_with_catch, n=n, params=lpar)\n",
    "ts, rrs, rzs, rinfo, _ = gen_many_trials(rnn, generate_trial_with_catch, n=n, params=rpar)"
   ]
  },
  {
   "cell_type": "code",
   "execution_count": null,
   "metadata": {},
   "outputs": [],
   "source": [
    "print lrs.shape"
   ]
  },
  {
   "cell_type": "markdown",
   "metadata": {},
   "source": [
    "Okay, so now what we have is a couple big arrays: One when the stimulus is below the threshold (and the network is reliably sensitive to that) and the other when it's above threshold. Let's do the easiest thing first:"
   ]
  },
  {
   "cell_type": "code",
   "execution_count": null,
   "metadata": {},
   "outputs": [],
   "source": [
    "f = plt.figure(figsize=(10, 10))\n",
    "ax1 = f.add_subplot(3, 1, 1)\n",
    "_ = ax1.plot(ts, np.mean(lrs, 0)[exc].T)\n",
    "_ = ax1.plot(ts, np.mean(lrs, 0)[inh].T, '--')\n",
    "ax2 = f.add_subplot(3, 1, 2)\n",
    "_ = ax2.plot(ts, np.mean(rrs, 0)[exc].T)\n",
    "_ = ax2.plot(ts, np.mean(rrs, 0)[inh].T, '--')\n",
    "ax3 = f.add_subplot(3, 1, 3)\n",
    "lcorr, lincorr = np.mean(lzs, 0)\n",
    "rincorr, rcorr = np.mean(rzs, 0)\n",
    "_ = ax3.plot(ts, lcorr.T, 'r', ts, lincorr.T, 'b--')\n",
    "_ = ax3.plot(ts, rincorr.T, 'r--', ts, rcorr.T, 'b')"
   ]
  },
  {
   "cell_type": "markdown",
   "metadata": {},
   "source": [
    "Well, this isn't very informative. If we squint, we can generate a strategy that appears to be at work: There appears to be a subpopulation that drives the transient dashed red spike, that is then inhibited while otherwise it is simply allowed to grow (albeit more slowly). When it is the correct answer, it does not reach strength triggering inhibition until later on. So, we have an intuition -- how could we show this more concretely? "
   ]
  },
  {
   "cell_type": "code",
   "execution_count": null,
   "metadata": {},
   "outputs": [],
   "source": [
    "f = plt.figure(figsize=(5, 10))\n",
    "ax = f.add_subplot(3, 1, 1)\n",
    "_ = ax.imshow(rnn.Wrec, interpolation='none')\n",
    "ax.set_title('recurrent weights')\n",
    "ax2 = f.add_subplot(3, 1, 2)\n",
    "_ = ax2.imshow(rnn.Wout, interpolation='none')\n",
    "ax3 = f.add_subplot(3, 1, 3)\n",
    "_ = ax3.imshow(rnn.Win.T, interpolation='none')\n",
    "f.tight_layout()\n",
    "print rnn.Wout"
   ]
  },
  {
   "cell_type": "code",
   "execution_count": null,
   "metadata": {},
   "outputs": [],
   "source": [
    "f = plt.figure(figsize=(10, 10))\n",
    "ax1 = f.add_subplot(3, 1, 1)\n",
    "loutmean = np.mean(lrs, 0)[rnn.Wout.sum(0) > .1]\n",
    "routmean = np.mean(rrs, 0)[rnn.Wout.sum(0) > .1]\n",
    "_ = ax1.plot(ts, loutmean.T)\n",
    "ax2 = f.add_subplot(3, 1, 2)\n",
    "_ = ax2.plot(ts, routmean.T)"
   ]
  },
  {
   "cell_type": "markdown",
   "metadata": {},
   "source": [
    "What if we sort by average response to an above threshold stimulus?"
   ]
  },
  {
   "cell_type": "code",
   "execution_count": null,
   "metadata": {},
   "outputs": [],
   "source": [
    "print lrs.shape\n",
    "print epochs"
   ]
  },
  {
   "cell_type": "code",
   "execution_count": null,
   "metadata": {},
   "outputs": [],
   "source": [
    "l_slice = np.mean(lrs[:, :, epochs['stimulus'][0]:epochs['decision'][-1]], 0)\n",
    "l_selec = np.mean(l_slice, 1)\n",
    "l_var = np.var(l_slice, 1)\n",
    "\n",
    "r_slice = np.mean(rrs[:, :, epochs['stimulus'][0]:epochs['decision'][-1]], 0)\n",
    "r_selec = np.mean(r_slice, 1)\n",
    "r_var = np.var(r_slice, 1)\n",
    "\n",
    "d_primes = (l_selec - r_selec)/(np.sqrt(r_var + l_var)/2)\n",
    "w_sort = np.argsort(d_primes)\n",
    "f = plt.figure()\n",
    "ax = f.add_subplot(1, 1, 1)\n",
    "print np.nan_to_num(d_primes)\n",
    "ax.hist(np.nan_to_num(d_primes))"
   ]
  },
  {
   "cell_type": "code",
   "execution_count": null,
   "metadata": {},
   "outputs": [],
   "source": [
    "ws = rnn.Wrec\n",
    "sortedws = ws[w_sort, :][:, w_sort]\n",
    "\n",
    "f = plt.figure(figsize=(5, 10))\n",
    "ax = f.add_subplot(1, 1, 1)\n",
    "_ = ax.imshow(sortedws, interpolation='none')\n",
    "ax.set_title('recurrent weights')"
   ]
  }
 ],
 "metadata": {
  "kernelspec": {
   "display_name": "Python 2",
   "language": "python",
   "name": "python2"
  },
  "language_info": {
   "codemirror_mode": {
    "name": "ipython",
    "version": 2
   },
   "file_extension": ".py",
   "mimetype": "text/x-python",
   "name": "python",
   "nbconvert_exporter": "python",
   "pygments_lexer": "ipython2",
   "version": "2.7.14"
  }
 },
 "nbformat": 4,
 "nbformat_minor": 1
}
